{
 "cells": [
  {
   "cell_type": "code",
   "execution_count": 10,
   "metadata": {},
   "outputs": [],
   "source": [
    "import os\n",
    "import pandas as pd\n",
    "import numpy as np\n",
    " "
   ]
  },
  {
   "cell_type": "code",
   "execution_count": 11,
   "metadata": {},
   "outputs": [],
   "source": [
    "# data = []\n",
    "# for i in range(4):\n",
    "#     data.append(0)\n",
    "# data = np.array(data)\n",
    "# data = data.reshape(-1,data.shape[0])\n",
    "# columns_ls = ['non','error','good','result']\n",
    "# df = pd.DataFrame(data,columns=columns_ls)\n",
    "# df"
   ]
  },
  {
   "cell_type": "code",
   "execution_count": 12,
   "metadata": {},
   "outputs": [
    {
     "data": {
      "text/plain": [
       "['Display_Cam-0,GrabNum-00',\n",
       " 'Display_Cam-0,GrabNum-01',\n",
       " 'Display_Cam-0,GrabNum-02',\n",
       " 'Display_Cam-0,GrabNum-03',\n",
       " 'Display_Cam-0,GrabNum-04',\n",
       " 'Display_Cam-0,GrabNum-05',\n",
       " 'Display_Cam-0,GrabNum-06',\n",
       " 'Display_Cam-0,GrabNum-07',\n",
       " 'Display_Cam-0,GrabNum-08',\n",
       " 'Display_Cam-0,GrabNum-09',\n",
       " 'Display_Cam-0,GrabNum-10',\n",
       " 'Display_Cam-0,GrabNum-11',\n",
       " 'Display_Cam-0,GrabNum-12',\n",
       " 'Display_Cam-0,GrabNum-13',\n",
       " 'Display_Cam-0,GrabNum-14',\n",
       " 'Display_Cam-0,GrabNum-15',\n",
       " 'Display_Cam-0,GrabNum-16',\n",
       " 'Display_Cam-0,GrabNum-17',\n",
       " 'Display_Cam-0,GrabNum-18',\n",
       " 'Display_Cam-0,GrabNum-19']"
      ]
     },
     "execution_count": 12,
     "metadata": {},
     "output_type": "execute_result"
    }
   ],
   "source": [
    "a = []\n",
    "s = 'Display_Cam-0,GrabNum-'\n",
    "for i in range(2):\n",
    "    for j in range(10):\n",
    "        g = s + str(i) + str(j) \n",
    "        a.append(g)\n",
    "a\n"
   ]
  },
  {
   "cell_type": "code",
   "execution_count": 13,
   "metadata": {},
   "outputs": [
    {
     "data": {
      "text/plain": [
       "['Display_Cam-1,GrabNum-00',\n",
       " 'Display_Cam-1,GrabNum-01',\n",
       " 'Display_Cam-1,GrabNum-02',\n",
       " 'Display_Cam-1,GrabNum-03',\n",
       " 'Display_Cam-1,GrabNum-04',\n",
       " 'Display_Cam-1,GrabNum-05',\n",
       " 'Display_Cam-1,GrabNum-06',\n",
       " 'Display_Cam-1,GrabNum-07',\n",
       " 'Display_Cam-1,GrabNum-08',\n",
       " 'Display_Cam-1,GrabNum-09',\n",
       " 'Display_Cam-1,GrabNum-10',\n",
       " 'Display_Cam-1,GrabNum-11',\n",
       " 'Display_Cam-1,GrabNum-12',\n",
       " 'Display_Cam-1,GrabNum-13',\n",
       " 'Display_Cam-1,GrabNum-14',\n",
       " 'Display_Cam-1,GrabNum-15',\n",
       " 'Display_Cam-1,GrabNum-16',\n",
       " 'Display_Cam-1,GrabNum-17',\n",
       " 'Display_Cam-1,GrabNum-18',\n",
       " 'Display_Cam-1,GrabNum-19']"
      ]
     },
     "execution_count": 13,
     "metadata": {},
     "output_type": "execute_result"
    }
   ],
   "source": [
    "d = []\n",
    "g = 'Display_Cam-1,GrabNum-'\n",
    "for i in range(2):\n",
    "    for j in range(10):\n",
    "        h = g + str(i) + str(j) \n",
    "        d.append(h)\n",
    "d"
   ]
  },
  {
   "cell_type": "code",
   "execution_count": 14,
   "metadata": {},
   "outputs": [
    {
     "data": {
      "text/plain": [
       "['Display_Cam-0,GrabNum-00',\n",
       " 'Display_Cam-0,GrabNum-01',\n",
       " 'Display_Cam-0,GrabNum-02',\n",
       " 'Display_Cam-0,GrabNum-03',\n",
       " 'Display_Cam-0,GrabNum-04',\n",
       " 'Display_Cam-0,GrabNum-05',\n",
       " 'Display_Cam-0,GrabNum-06',\n",
       " 'Display_Cam-0,GrabNum-07',\n",
       " 'Display_Cam-0,GrabNum-08',\n",
       " 'Display_Cam-0,GrabNum-09',\n",
       " 'Display_Cam-0,GrabNum-10',\n",
       " 'Display_Cam-0,GrabNum-11',\n",
       " 'Display_Cam-0,GrabNum-12',\n",
       " 'Display_Cam-0,GrabNum-13',\n",
       " 'Display_Cam-0,GrabNum-14',\n",
       " 'Display_Cam-0,GrabNum-15',\n",
       " 'Display_Cam-0,GrabNum-16',\n",
       " 'Display_Cam-0,GrabNum-17',\n",
       " 'Display_Cam-0,GrabNum-18',\n",
       " 'Display_Cam-0,GrabNum-19',\n",
       " 'Display_Cam-1,GrabNum-00',\n",
       " 'Display_Cam-1,GrabNum-01',\n",
       " 'Display_Cam-1,GrabNum-02',\n",
       " 'Display_Cam-1,GrabNum-03',\n",
       " 'Display_Cam-1,GrabNum-04',\n",
       " 'Display_Cam-1,GrabNum-05',\n",
       " 'Display_Cam-1,GrabNum-06',\n",
       " 'Display_Cam-1,GrabNum-07',\n",
       " 'Display_Cam-1,GrabNum-08',\n",
       " 'Display_Cam-1,GrabNum-09',\n",
       " 'Display_Cam-1,GrabNum-10',\n",
       " 'Display_Cam-1,GrabNum-11',\n",
       " 'Display_Cam-1,GrabNum-12',\n",
       " 'Display_Cam-1,GrabNum-13',\n",
       " 'Display_Cam-1,GrabNum-14',\n",
       " 'Display_Cam-1,GrabNum-15',\n",
       " 'Display_Cam-1,GrabNum-16',\n",
       " 'Display_Cam-1,GrabNum-17',\n",
       " 'Display_Cam-1,GrabNum-18',\n",
       " 'Display_Cam-1,GrabNum-19']"
      ]
     },
     "execution_count": 14,
     "metadata": {},
     "output_type": "execute_result"
    }
   ],
   "source": [
    "for i in d:\n",
    "    a.append(i)\n",
    "a"
   ]
  },
  {
   "cell_type": "code",
   "execution_count": 15,
   "metadata": {},
   "outputs": [],
   "source": [
    "columns_ls = ['non','error','good','result']\n",
    "for i in columns_ls:\n",
    "    a.append(i)\n",
    "df = pd.DataFrame(columns=a)\n",
    "df.to_csv('/mnt/nas03/phenomx/huvio/huvio_docker/test.csv')\n"
   ]
  },
  {
   "cell_type": "code",
   "execution_count": 16,
   "metadata": {},
   "outputs": [
    {
     "name": "stdout",
     "output_type": "stream",
     "text": [
      "Display_Cam-0,GrabNum-00\n",
      "Display_Cam-0,GrabNum-01\n",
      "Display_Cam-0,GrabNum-02\n",
      "Display_Cam-0,GrabNum-03\n",
      "Display_Cam-0,GrabNum-04\n",
      "Display_Cam-0,GrabNum-05\n",
      "Display_Cam-0,GrabNum-06\n",
      "Display_Cam-0,GrabNum-07\n",
      "Display_Cam-0,GrabNum-08\n",
      "Display_Cam-0,GrabNum-09\n",
      "Display_Cam-0,GrabNum-10\n",
      "Display_Cam-0,GrabNum-11\n",
      "Display_Cam-0,GrabNum-12\n",
      "Display_Cam-0,GrabNum-13\n",
      "Display_Cam-0,GrabNum-14\n",
      "Display_Cam-0,GrabNum-15\n",
      "Display_Cam-0,GrabNum-16\n",
      "Display_Cam-0,GrabNum-17\n",
      "Display_Cam-0,GrabNum-18\n",
      "Display_Cam-0,GrabNum-19\n",
      "Display_Cam-1,GrabNum-00\n",
      "Display_Cam-1,GrabNum-01\n",
      "Display_Cam-1,GrabNum-02\n",
      "Display_Cam-1,GrabNum-03\n",
      "Display_Cam-1,GrabNum-04\n",
      "Display_Cam-1,GrabNum-05\n",
      "Display_Cam-1,GrabNum-06\n",
      "Display_Cam-1,GrabNum-07\n",
      "Display_Cam-1,GrabNum-08\n",
      "Display_Cam-1,GrabNum-09\n",
      "Display_Cam-1,GrabNum-10\n",
      "Display_Cam-1,GrabNum-11\n",
      "Display_Cam-1,GrabNum-12\n",
      "Display_Cam-1,GrabNum-13\n",
      "Display_Cam-1,GrabNum-14\n",
      "Display_Cam-1,GrabNum-15\n",
      "Display_Cam-1,GrabNum-16\n",
      "Display_Cam-1,GrabNum-17\n",
      "Display_Cam-1,GrabNum-18\n",
      "Display_Cam-1,GrabNum-19\n",
      "non\n",
      "error\n",
      "good\n",
      "result\n",
      "44\n"
     ]
    }
   ],
   "source": [
    "df = pd.read_csv('/mnt/nas03/phenomx/huvio/huvio_docker/test.csv',index_col=0)\n",
    "for i in df.columns:\n",
    "    print(i)\n",
    "print(len(df.columns))"
   ]
  },
  {
   "cell_type": "code",
   "execution_count": 6,
   "metadata": {},
   "outputs": [
    {
     "data": {
      "text/plain": [
       "['Display_Cam-1,GrabNum-00',\n",
       " 'Display_Cam-1,GrabNum-01',\n",
       " 'Display_Cam-1,GrabNum-02',\n",
       " 'Display_Cam-1,GrabNum-03',\n",
       " 'Display_Cam-1,GrabNum-04',\n",
       " 'Display_Cam-1,GrabNum-05',\n",
       " 'Display_Cam-1,GrabNum-06',\n",
       " 'Display_Cam-1,GrabNum-07',\n",
       " 'Display_Cam-1,GrabNum-08',\n",
       " 'Display_Cam-1,GrabNum-09',\n",
       " 'Display_Cam-1,GrabNum-10',\n",
       " 'Display_Cam-1,GrabNum-11',\n",
       " 'Display_Cam-1,GrabNum-12',\n",
       " 'Display_Cam-1,GrabNum-13',\n",
       " 'Display_Cam-1,GrabNum-14',\n",
       " 'Display_Cam-1,GrabNum-15',\n",
       " 'Display_Cam-1,GrabNum-16',\n",
       " 'Display_Cam-1,GrabNum-17',\n",
       " 'Display_Cam-1,GrabNum-18',\n",
       " 'Display_Cam-1,GrabNum-19',\n",
       " 'non',\n",
       " 'error',\n",
       " 'good',\n",
       " 'result']"
      ]
     },
     "execution_count": 6,
     "metadata": {},
     "output_type": "execute_result"
    }
   ],
   "source": [
    "df_ls = list(df.columns)\n",
    "df_ls"
   ]
  },
  {
   "cell_type": "code",
   "execution_count": null,
   "metadata": {},
   "outputs": [],
   "source": []
  },
  {
   "cell_type": "code",
   "execution_count": 7,
   "metadata": {},
   "outputs": [
    {
     "name": "stdout",
     "output_type": "stream",
     "text": [
      "[['NaN' 'NaN' 'good' 'good' 'good' 'good' 'NaN' 'good' 'good' 'good'\n",
      "  'good' 'good' 'good' 'good' 'good' 'good' 'good' 'good' 'good' 'good'\n",
      "  '3' '0' '17' 'good']]\n",
      "[['good' 'good' 'good' 'good' 'good' 'good' 'good' 'good' 'good' 'good'\n",
      "  'good' 'good' 'good' 'good' 'good' 'good' 'good' 'good' 'good' 'good'\n",
      "  '0' '0' '20' 'good']]\n",
      "[['NaN' 'NaN' 'NaN' 'good' 'good' 'good' 'good' 'good' 'good' 'good'\n",
      "  'good' 'good' 'good' 'good' 'good' 'good' 'good' 'good' 'good' 'good'\n",
      "  '3' '0' '17' 'good']]\n",
      "[['NaN' 'NaN' 'NaN' 'NaN' 'good' 'good' 'good' 'good' 'good' 'good'\n",
      "  'good' 'good' 'good' 'good' 'good' 'good' 'good' 'good' 'good' 'good'\n",
      "  '4' '0' '16' 'good']]\n",
      "[['NaN' 'NaN' 'NaN' 'good' 'good' 'good' 'good' 'good' 'good' 'good'\n",
      "  'good' 'good' 'good' 'good' 'good' 'good' 'good' 'good' 'good' 'good'\n",
      "  '3' '0' '17' 'good']]\n",
      "[['NaN' 'NaN' 'NaN' 'NaN' 'good' 'good' 'good' 'good' 'good' 'good'\n",
      "  'good' 'good' 'good' 'good' 'good' 'good' 'good' 'good' 'good' 'good'\n",
      "  '4' '0' '16' 'good']]\n",
      "[['NaN' 'NaN' 'good' 'good' 'good' 'good' 'good' 'good' 'good' 'good'\n",
      "  'good' 'good' 'good' 'good' 'good' 'good' 'good' 'good' 'good' 'good'\n",
      "  '2' '0' '18' 'good']]\n",
      "[['NaN' 'NaN' 'NaN' 'good' 'good' 'good' 'good' 'good' 'good' 'good'\n",
      "  'good' 'good' 'good' 'good' 'good' 'good' 'good' 'good' 'good' 'good'\n",
      "  '3' '0' '17' 'good']]\n",
      "[['NaN' 'NaN' 'good' 'good' 'good' 'good' 'good' 'good' 'good' 'good'\n",
      "  'good' 'good' 'good' 'good' 'good' 'good' 'good' 'good' 'good' 'good'\n",
      "  '2' '0' '18' 'good']]\n",
      "[['NaN' 'NaN' 'NaN' 'NaN' 'good' 'good' 'good' 'good' 'good' 'good'\n",
      "  'good' 'good' 'good' 'good' 'good' 'good' 'good' 'good' 'good' 'good'\n",
      "  '4' '0' '16' 'good']]\n",
      "[['NaN' 'NaN' 'NaN' 'NaN' 'NaN' 'NaN' 'NaN' 'NaN' 'NaN' 'NaN' 'NaN' 'NaN'\n",
      "  'NaN' 'NaN' 'NaN' 'NaN' 'NaN' 'NaN' 'NaN' 'NaN' '20' '0' '0' 'NaN']]\n"
     ]
    }
   ],
   "source": [
    "path = '/mnt/nas03/phenomx/huvio/huvio_docker/runs/detect'\n",
    "path_ls = os.listdir(path)\n",
    "\n",
    "\n",
    "for case in path_ls:\n",
    "    df = pd.read_csv('/mnt/nas03/phenomx/huvio/huvio_docker/test.csv',index_col=0)\n",
    "    label_path = os.path.join(path,case,'labels')\n",
    "    label_ls = os.listdir(label_path)\n",
    "    emp = []\n",
    "    for i in range(44):\n",
    "        emp.append('NaN')\n",
    "    img_count = 20\n",
    "    good = 0\n",
    "    error = 0\n",
    "    result = ''\n",
    "    \n",
    "    if len(label_ls) == 0:\n",
    "        result = 'NaN'\n",
    "    else:\n",
    "        img_count -= len(label_ls)\n",
    "        for txt in label_ls:\n",
    "            txt_path = os.path.join(label_path,txt)\n",
    "            txt_name = txt.split('.')[0]\n",
    "            \n",
    "            file1 = open(txt_path, \"r\")\n",
    "            strings = file1.read()\n",
    "            file1.close()\n",
    "            t1 = strings.split(' ')\n",
    "            cl = int(t1[0])\n",
    "            for name in df.columns:\n",
    "                if name == txt_name:\n",
    "                    if cl == 0:\n",
    "                        emp[list(df.columns).index(name)] = 'error'\n",
    "                        error += 1\n",
    "                    else:\n",
    "                        emp[list(df.columns).index(name)] = 'good'\n",
    "                        good += 1\n",
    "        \n",
    "                    \n",
    "    if error > good:\n",
    "        result = 'error'\n",
    "    elif good > error:\n",
    "        result = 'good'\n",
    "    data_ls = [img_count,error,good,result]\n",
    "    emp[-4:] = data_ls\n",
    "    data = np.array(emp)\n",
    "    data = data.reshape(-1,data.shape[0])\n",
    "    print(data)\n",
    "    df1 = pd.DataFrame(data, index=[case], columns = df.columns)\n",
    "    csv = pd.concat([df,df1])\n",
    "    csv.to_csv('/mnt/nas03/phenomx/huvio/huvio_docker/test.csv')\n",
    "                \n",
    "            \n",
    "            \n",
    "        \n",
    "        \n",
    "    "
   ]
  },
  {
   "cell_type": "code",
   "execution_count": null,
   "metadata": {},
   "outputs": [],
   "source": []
  }
 ],
 "metadata": {
  "interpreter": {
   "hash": "9489791b5d85a815d18f4d3cd127847a73fcf3ad35078c6aaf0a840bd5c3c688"
  },
  "kernelspec": {
   "display_name": "Python 3.8.15 ('yolo')",
   "language": "python",
   "name": "python3"
  },
  "language_info": {
   "codemirror_mode": {
    "name": "ipython",
    "version": 3
   },
   "file_extension": ".py",
   "mimetype": "text/x-python",
   "name": "python",
   "nbconvert_exporter": "python",
   "pygments_lexer": "ipython3",
   "version": "3.8.15"
  },
  "orig_nbformat": 4
 },
 "nbformat": 4,
 "nbformat_minor": 2
}
